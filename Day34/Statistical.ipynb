{
 "cells": [
  {
   "cell_type": "code",
   "execution_count": 2,
   "id": "2467b364",
   "metadata": {},
   "outputs": [],
   "source": [
    "import __future__\n",
    "import numpy as np\n",
    "import pandas as pd\n",
    "import seaborn as sns\n",
    "import matplotlib.pyplot as plt\n",
    "sns.set_style('whitegrid')\n",
    "features= pd.read_csv('features.csv')"
   ]
  },
  {
   "cell_type": "code",
   "execution_count": 3,
   "id": "a39f5aff",
   "metadata": {},
   "outputs": [
    {
     "data": {
      "text/html": [
       "<div>\n",
       "<style scoped>\n",
       "    .dataframe tbody tr th:only-of-type {\n",
       "        vertical-align: middle;\n",
       "    }\n",
       "\n",
       "    .dataframe tbody tr th {\n",
       "        vertical-align: top;\n",
       "    }\n",
       "\n",
       "    .dataframe thead th {\n",
       "        text-align: right;\n",
       "    }\n",
       "</style>\n",
       "<table border=\"1\" class=\"dataframe\">\n",
       "  <thead>\n",
       "    <tr style=\"text-align: right;\">\n",
       "      <th></th>\n",
       "      <th>Store</th>\n",
       "      <th>Date</th>\n",
       "      <th>Temperature</th>\n",
       "      <th>Fuel_Price</th>\n",
       "      <th>MarkDown1</th>\n",
       "      <th>MarkDown2</th>\n",
       "      <th>MarkDown3</th>\n",
       "      <th>MarkDown4</th>\n",
       "      <th>MarkDown5</th>\n",
       "      <th>CPI</th>\n",
       "      <th>Unemployment</th>\n",
       "      <th>IsHoliday</th>\n",
       "    </tr>\n",
       "  </thead>\n",
       "  <tbody>\n",
       "    <tr>\n",
       "      <th>0</th>\n",
       "      <td>1</td>\n",
       "      <td>2010-02-05</td>\n",
       "      <td>42.31</td>\n",
       "      <td>2.572</td>\n",
       "      <td>NaN</td>\n",
       "      <td>NaN</td>\n",
       "      <td>NaN</td>\n",
       "      <td>NaN</td>\n",
       "      <td>NaN</td>\n",
       "      <td>211.096358</td>\n",
       "      <td>8.106</td>\n",
       "      <td>False</td>\n",
       "    </tr>\n",
       "    <tr>\n",
       "      <th>1</th>\n",
       "      <td>1</td>\n",
       "      <td>2010-02-12</td>\n",
       "      <td>38.51</td>\n",
       "      <td>2.548</td>\n",
       "      <td>NaN</td>\n",
       "      <td>NaN</td>\n",
       "      <td>NaN</td>\n",
       "      <td>NaN</td>\n",
       "      <td>NaN</td>\n",
       "      <td>211.242170</td>\n",
       "      <td>8.106</td>\n",
       "      <td>True</td>\n",
       "    </tr>\n",
       "    <tr>\n",
       "      <th>2</th>\n",
       "      <td>1</td>\n",
       "      <td>2010-02-19</td>\n",
       "      <td>39.93</td>\n",
       "      <td>2.514</td>\n",
       "      <td>NaN</td>\n",
       "      <td>NaN</td>\n",
       "      <td>NaN</td>\n",
       "      <td>NaN</td>\n",
       "      <td>NaN</td>\n",
       "      <td>211.289143</td>\n",
       "      <td>8.106</td>\n",
       "      <td>False</td>\n",
       "    </tr>\n",
       "    <tr>\n",
       "      <th>3</th>\n",
       "      <td>1</td>\n",
       "      <td>2010-02-26</td>\n",
       "      <td>46.63</td>\n",
       "      <td>2.561</td>\n",
       "      <td>NaN</td>\n",
       "      <td>NaN</td>\n",
       "      <td>NaN</td>\n",
       "      <td>NaN</td>\n",
       "      <td>NaN</td>\n",
       "      <td>211.319643</td>\n",
       "      <td>8.106</td>\n",
       "      <td>False</td>\n",
       "    </tr>\n",
       "    <tr>\n",
       "      <th>4</th>\n",
       "      <td>1</td>\n",
       "      <td>2010-03-05</td>\n",
       "      <td>46.50</td>\n",
       "      <td>2.625</td>\n",
       "      <td>NaN</td>\n",
       "      <td>NaN</td>\n",
       "      <td>NaN</td>\n",
       "      <td>NaN</td>\n",
       "      <td>NaN</td>\n",
       "      <td>211.350143</td>\n",
       "      <td>8.106</td>\n",
       "      <td>False</td>\n",
       "    </tr>\n",
       "    <tr>\n",
       "      <th>5</th>\n",
       "      <td>1</td>\n",
       "      <td>2010-03-12</td>\n",
       "      <td>57.79</td>\n",
       "      <td>2.667</td>\n",
       "      <td>NaN</td>\n",
       "      <td>NaN</td>\n",
       "      <td>NaN</td>\n",
       "      <td>NaN</td>\n",
       "      <td>NaN</td>\n",
       "      <td>211.380643</td>\n",
       "      <td>8.106</td>\n",
       "      <td>False</td>\n",
       "    </tr>\n",
       "    <tr>\n",
       "      <th>6</th>\n",
       "      <td>1</td>\n",
       "      <td>2010-03-19</td>\n",
       "      <td>54.58</td>\n",
       "      <td>2.720</td>\n",
       "      <td>NaN</td>\n",
       "      <td>NaN</td>\n",
       "      <td>NaN</td>\n",
       "      <td>NaN</td>\n",
       "      <td>NaN</td>\n",
       "      <td>211.215635</td>\n",
       "      <td>8.106</td>\n",
       "      <td>False</td>\n",
       "    </tr>\n",
       "    <tr>\n",
       "      <th>7</th>\n",
       "      <td>1</td>\n",
       "      <td>2010-03-26</td>\n",
       "      <td>51.45</td>\n",
       "      <td>2.732</td>\n",
       "      <td>NaN</td>\n",
       "      <td>NaN</td>\n",
       "      <td>NaN</td>\n",
       "      <td>NaN</td>\n",
       "      <td>NaN</td>\n",
       "      <td>211.018042</td>\n",
       "      <td>8.106</td>\n",
       "      <td>False</td>\n",
       "    </tr>\n",
       "    <tr>\n",
       "      <th>8</th>\n",
       "      <td>1</td>\n",
       "      <td>2010-04-02</td>\n",
       "      <td>62.27</td>\n",
       "      <td>2.719</td>\n",
       "      <td>NaN</td>\n",
       "      <td>NaN</td>\n",
       "      <td>NaN</td>\n",
       "      <td>NaN</td>\n",
       "      <td>NaN</td>\n",
       "      <td>210.820450</td>\n",
       "      <td>7.808</td>\n",
       "      <td>False</td>\n",
       "    </tr>\n",
       "    <tr>\n",
       "      <th>9</th>\n",
       "      <td>1</td>\n",
       "      <td>2010-04-09</td>\n",
       "      <td>65.86</td>\n",
       "      <td>2.770</td>\n",
       "      <td>NaN</td>\n",
       "      <td>NaN</td>\n",
       "      <td>NaN</td>\n",
       "      <td>NaN</td>\n",
       "      <td>NaN</td>\n",
       "      <td>210.622857</td>\n",
       "      <td>7.808</td>\n",
       "      <td>False</td>\n",
       "    </tr>\n",
       "  </tbody>\n",
       "</table>\n",
       "</div>"
      ],
      "text/plain": [
       "   Store        Date  Temperature  Fuel_Price  MarkDown1  MarkDown2  \\\n",
       "0      1  2010-02-05        42.31       2.572        NaN        NaN   \n",
       "1      1  2010-02-12        38.51       2.548        NaN        NaN   \n",
       "2      1  2010-02-19        39.93       2.514        NaN        NaN   \n",
       "3      1  2010-02-26        46.63       2.561        NaN        NaN   \n",
       "4      1  2010-03-05        46.50       2.625        NaN        NaN   \n",
       "5      1  2010-03-12        57.79       2.667        NaN        NaN   \n",
       "6      1  2010-03-19        54.58       2.720        NaN        NaN   \n",
       "7      1  2010-03-26        51.45       2.732        NaN        NaN   \n",
       "8      1  2010-04-02        62.27       2.719        NaN        NaN   \n",
       "9      1  2010-04-09        65.86       2.770        NaN        NaN   \n",
       "\n",
       "   MarkDown3  MarkDown4  MarkDown5         CPI  Unemployment  IsHoliday  \n",
       "0        NaN        NaN        NaN  211.096358         8.106      False  \n",
       "1        NaN        NaN        NaN  211.242170         8.106       True  \n",
       "2        NaN        NaN        NaN  211.289143         8.106      False  \n",
       "3        NaN        NaN        NaN  211.319643         8.106      False  \n",
       "4        NaN        NaN        NaN  211.350143         8.106      False  \n",
       "5        NaN        NaN        NaN  211.380643         8.106      False  \n",
       "6        NaN        NaN        NaN  211.215635         8.106      False  \n",
       "7        NaN        NaN        NaN  211.018042         8.106      False  \n",
       "8        NaN        NaN        NaN  210.820450         7.808      False  \n",
       "9        NaN        NaN        NaN  210.622857         7.808      False  "
      ]
     },
     "execution_count": 3,
     "metadata": {},
     "output_type": "execute_result"
    }
   ],
   "source": [
    "features.head(10)"
   ]
  },
  {
   "cell_type": "code",
   "execution_count": 4,
   "id": "889d3d00",
   "metadata": {},
   "outputs": [
    {
     "data": {
      "text/html": [
       "<div>\n",
       "<style scoped>\n",
       "    .dataframe tbody tr th:only-of-type {\n",
       "        vertical-align: middle;\n",
       "    }\n",
       "\n",
       "    .dataframe tbody tr th {\n",
       "        vertical-align: top;\n",
       "    }\n",
       "\n",
       "    .dataframe thead th {\n",
       "        text-align: right;\n",
       "    }\n",
       "</style>\n",
       "<table border=\"1\" class=\"dataframe\">\n",
       "  <thead>\n",
       "    <tr style=\"text-align: right;\">\n",
       "      <th></th>\n",
       "      <th>Store</th>\n",
       "      <th>Date</th>\n",
       "      <th>Temperature</th>\n",
       "      <th>Fuel_Price</th>\n",
       "      <th>MarkDown1</th>\n",
       "      <th>MarkDown2</th>\n",
       "      <th>MarkDown3</th>\n",
       "      <th>MarkDown4</th>\n",
       "      <th>MarkDown5</th>\n",
       "      <th>CPI</th>\n",
       "      <th>Unemployment</th>\n",
       "      <th>IsHoliday</th>\n",
       "    </tr>\n",
       "  </thead>\n",
       "  <tbody>\n",
       "    <tr>\n",
       "      <th>8185</th>\n",
       "      <td>45</td>\n",
       "      <td>2013-06-28</td>\n",
       "      <td>76.05</td>\n",
       "      <td>3.639</td>\n",
       "      <td>4842.29</td>\n",
       "      <td>975.03</td>\n",
       "      <td>3.00</td>\n",
       "      <td>2449.97</td>\n",
       "      <td>3169.69</td>\n",
       "      <td>NaN</td>\n",
       "      <td>NaN</td>\n",
       "      <td>False</td>\n",
       "    </tr>\n",
       "    <tr>\n",
       "      <th>8186</th>\n",
       "      <td>45</td>\n",
       "      <td>2013-07-05</td>\n",
       "      <td>77.50</td>\n",
       "      <td>3.614</td>\n",
       "      <td>9090.48</td>\n",
       "      <td>2268.58</td>\n",
       "      <td>582.74</td>\n",
       "      <td>5797.47</td>\n",
       "      <td>1514.93</td>\n",
       "      <td>NaN</td>\n",
       "      <td>NaN</td>\n",
       "      <td>False</td>\n",
       "    </tr>\n",
       "    <tr>\n",
       "      <th>8187</th>\n",
       "      <td>45</td>\n",
       "      <td>2013-07-12</td>\n",
       "      <td>79.37</td>\n",
       "      <td>3.614</td>\n",
       "      <td>3789.94</td>\n",
       "      <td>1827.31</td>\n",
       "      <td>85.72</td>\n",
       "      <td>744.84</td>\n",
       "      <td>2150.36</td>\n",
       "      <td>NaN</td>\n",
       "      <td>NaN</td>\n",
       "      <td>False</td>\n",
       "    </tr>\n",
       "    <tr>\n",
       "      <th>8188</th>\n",
       "      <td>45</td>\n",
       "      <td>2013-07-19</td>\n",
       "      <td>82.84</td>\n",
       "      <td>3.737</td>\n",
       "      <td>2961.49</td>\n",
       "      <td>1047.07</td>\n",
       "      <td>204.19</td>\n",
       "      <td>363.00</td>\n",
       "      <td>1059.46</td>\n",
       "      <td>NaN</td>\n",
       "      <td>NaN</td>\n",
       "      <td>False</td>\n",
       "    </tr>\n",
       "    <tr>\n",
       "      <th>8189</th>\n",
       "      <td>45</td>\n",
       "      <td>2013-07-26</td>\n",
       "      <td>76.06</td>\n",
       "      <td>3.804</td>\n",
       "      <td>212.02</td>\n",
       "      <td>851.73</td>\n",
       "      <td>2.06</td>\n",
       "      <td>10.88</td>\n",
       "      <td>1864.57</td>\n",
       "      <td>NaN</td>\n",
       "      <td>NaN</td>\n",
       "      <td>False</td>\n",
       "    </tr>\n",
       "  </tbody>\n",
       "</table>\n",
       "</div>"
      ],
      "text/plain": [
       "      Store        Date  Temperature  Fuel_Price  MarkDown1  MarkDown2  \\\n",
       "8185     45  2013-06-28        76.05       3.639    4842.29     975.03   \n",
       "8186     45  2013-07-05        77.50       3.614    9090.48    2268.58   \n",
       "8187     45  2013-07-12        79.37       3.614    3789.94    1827.31   \n",
       "8188     45  2013-07-19        82.84       3.737    2961.49    1047.07   \n",
       "8189     45  2013-07-26        76.06       3.804     212.02     851.73   \n",
       "\n",
       "      MarkDown3  MarkDown4  MarkDown5  CPI  Unemployment  IsHoliday  \n",
       "8185       3.00    2449.97    3169.69  NaN           NaN      False  \n",
       "8186     582.74    5797.47    1514.93  NaN           NaN      False  \n",
       "8187      85.72     744.84    2150.36  NaN           NaN      False  \n",
       "8188     204.19     363.00    1059.46  NaN           NaN      False  \n",
       "8189       2.06      10.88    1864.57  NaN           NaN      False  "
      ]
     },
     "execution_count": 4,
     "metadata": {},
     "output_type": "execute_result"
    }
   ],
   "source": [
    "features.tail()"
   ]
  },
  {
   "cell_type": "code",
   "execution_count": 5,
   "id": "b5262cb2",
   "metadata": {},
   "outputs": [
    {
     "data": {
      "text/plain": [
       "(8190, 12)"
      ]
     },
     "execution_count": 5,
     "metadata": {},
     "output_type": "execute_result"
    }
   ],
   "source": [
    "features.shape"
   ]
  },
  {
   "cell_type": "code",
   "execution_count": 6,
   "id": "eacc72ab",
   "metadata": {},
   "outputs": [
    {
     "data": {
      "text/plain": [
       "Index(['Store', 'Date', 'Temperature', 'Fuel_Price', 'MarkDown1', 'MarkDown2',\n",
       "       'MarkDown3', 'MarkDown4', 'MarkDown5', 'CPI', 'Unemployment',\n",
       "       'IsHoliday'],\n",
       "      dtype='object')"
      ]
     },
     "execution_count": 6,
     "metadata": {},
     "output_type": "execute_result"
    }
   ],
   "source": [
    "features.columns "
   ]
  },
  {
   "cell_type": "code",
   "execution_count": 7,
   "id": "b6efe560",
   "metadata": {},
   "outputs": [
    {
     "data": {
      "text/plain": [
       "Store             int64\n",
       "Date             object\n",
       "Temperature     float64\n",
       "Fuel_Price      float64\n",
       "MarkDown1       float64\n",
       "MarkDown2       float64\n",
       "MarkDown3       float64\n",
       "MarkDown4       float64\n",
       "MarkDown5       float64\n",
       "CPI             float64\n",
       "Unemployment    float64\n",
       "IsHoliday          bool\n",
       "dtype: object"
      ]
     },
     "execution_count": 7,
     "metadata": {},
     "output_type": "execute_result"
    }
   ],
   "source": [
    "features.dtypes"
   ]
  },
  {
   "cell_type": "code",
   "execution_count": 8,
   "id": "4cf33422",
   "metadata": {},
   "outputs": [
    {
     "name": "stdout",
     "output_type": "stream",
     "text": [
      "<class 'pandas.core.frame.DataFrame'>\n",
      "RangeIndex: 8190 entries, 0 to 8189\n",
      "Data columns (total 12 columns):\n",
      " #   Column        Non-Null Count  Dtype  \n",
      "---  ------        --------------  -----  \n",
      " 0   Store         8190 non-null   int64  \n",
      " 1   Date          8190 non-null   object \n",
      " 2   Temperature   8190 non-null   float64\n",
      " 3   Fuel_Price    8190 non-null   float64\n",
      " 4   MarkDown1     4032 non-null   float64\n",
      " 5   MarkDown2     2921 non-null   float64\n",
      " 6   MarkDown3     3613 non-null   float64\n",
      " 7   MarkDown4     3464 non-null   float64\n",
      " 8   MarkDown5     4050 non-null   float64\n",
      " 9   CPI           7605 non-null   float64\n",
      " 10  Unemployment  7605 non-null   float64\n",
      " 11  IsHoliday     8190 non-null   bool   \n",
      "dtypes: bool(1), float64(9), int64(1), object(1)\n",
      "memory usage: 712.0+ KB\n"
     ]
    }
   ],
   "source": [
    "features.info() "
   ]
  },
  {
   "cell_type": "code",
   "execution_count": null,
   "id": "dac7fe52",
   "metadata": {},
   "outputs": [
    {
     "name": "stdout",
     "output_type": "stream",
     "text": [
      "\n",
      "Column: Temperature\n",
      "Mean: 59.36\n",
      "Median: 60.71\n",
      "Mode: 50.43\n",
      "\n",
      "Column: Fuel_Price\n",
      "Mean: 3.41\n",
      "Median: 3.51\n",
      "Mode: 3.42\n",
      "\n",
      "Column: CPI\n",
      "Mean: 172.46\n",
      "Median: 182.76\n",
      "Mode: 132.72\n",
      "\n",
      "Column: Unemployment\n",
      "Mean: 7.83\n",
      "Median: 7.81\n",
      "Mode: 8.10\n"
     ]
    }
   ],
   "source": [
    "# •\tTask 1.1: Calculate the mean, median, and mode for each of the following columns:\n",
    "# o\tTemperature\n",
    "# o\tFuel_Price\n",
    "# o\tCPI\n",
    "# o\tUnemployment\n",
    "columns = ['Temperature', 'Fuel_Price', 'CPI', 'Unemployment']\n",
    "for col in columns:\n",
    "    mean_val = features[col].mean()\n",
    "    median_val = features[col].median()\n",
    "    mode_val = features[col].mode().iloc[0] \n",
    "\n",
    "    print(f\"\\nColumn: {col}\")\n",
    "    print(f\"Mean: {mean_val:.2f}\")\n",
    "    print(f\"Median: {median_val:.2f}\")\n",
    "    print(f\"Mode: {mode_val:.2f}\")"
   ]
  },
  {
   "cell_type": "code",
   "execution_count": 10,
   "id": "762b8c3a",
   "metadata": {},
   "outputs": [
    {
     "name": "stdout",
     "output_type": "stream",
     "text": [
      "Range (Max - Min) for each numerical column:\n",
      "\n",
      "Store: 44.00\n",
      "Temperature: 109.24\n",
      "Fuel_Price: 2.00\n",
      "MarkDown1: 105966.43\n",
      "MarkDown2: 104785.30\n",
      "MarkDown3: 149662.57\n",
      "MarkDown4: 67474.63\n",
      "MarkDown5: 771633.27\n",
      "CPI: 102.91\n",
      "Unemployment: 10.63\n"
     ]
    }
   ],
   "source": [
    "# •\tTask 2.1: Calculate the range (max - min) of each numerical column.\n",
    "numerical_cols = features.select_dtypes(include=[np.number]).columns\n",
    "print(\"Range (Max - Min) for each numerical column:\\n\")\n",
    "for col in numerical_cols:\n",
    "    col_max = features[col].max()\n",
    "    col_min = features[col].min()\n",
    "    col_range = col_max - col_min\n",
    "    print(f\"{col}: {col_range:.2f}\")\n"
   ]
  },
  {
   "cell_type": "code",
   "execution_count": 11,
   "id": "0ba2bd4b",
   "metadata": {},
   "outputs": [
    {
     "name": "stdout",
     "output_type": "stream",
     "text": [
      "Standard Deviation and Variance:\n",
      "\n",
      "Temperature:\n",
      "  Std Dev = 18.68, Variance = 348.89\n",
      "Fuel_Price:\n",
      "  Std Dev = 0.43, Variance = 0.19\n",
      "CPI:\n",
      "  Std Dev = 39.74, Variance = 1579.14\n",
      "Unemployment:\n",
      "  Std Dev = 1.88, Variance = 3.52\n",
      "MarkDown1:\n",
      "  Std Dev = 9262.75, Variance = 85798490.28\n",
      "MarkDown2:\n",
      "  Std Dev = 8793.58, Variance = 77327102.25\n",
      "MarkDown3:\n",
      "  Std Dev = 11276.46, Variance = 127158599.93\n",
      "MarkDown4:\n",
      "  Std Dev = 6792.33, Variance = 46135744.95\n",
      "MarkDown5:\n",
      "  Std Dev = 13086.69, Variance = 171261462.44\n"
     ]
    }
   ],
   "source": [
    "# •\tTask 2.2: Compute the standard deviation and variance for:\n",
    "# o\tTemperature, Fuel_Price, CPI, Unemployment, MarkDown1–5\n",
    "columns = ['Temperature', 'Fuel_Price', 'CPI', 'Unemployment', \n",
    "           'MarkDown1', 'MarkDown2', 'MarkDown3', 'MarkDown4', 'MarkDown5']\n",
    "\n",
    "print(\"Standard Deviation and Variance:\\n\")\n",
    "for col in columns:          \n",
    "    std_dev = features[col].std()\n",
    "    variance = features[col].var()\n",
    "    print(f\"{col}:\\n  Std Dev = {std_dev:.2f}, Variance = {variance:.2f}\")\n"
   ]
  },
  {
   "cell_type": "code",
   "execution_count": 12,
   "id": "4dda9a99",
   "metadata": {},
   "outputs": [
    {
     "name": "stdout",
     "output_type": "stream",
     "text": [
      "25th, 50th, and 75th Percentiles:\n",
      "\n",
      "MarkDown5:\n",
      "  25th Percentile = 1440.83\n",
      "  50th Percentile = 2727.14\n",
      "  75th Percentile = 4832.56\n",
      "\n"
     ]
    }
   ],
   "source": [
    "# •\tTask 3.1: Calculate the 25th, 50th, and 75th percentiles for Fuel_Price, CPI, and all MarkDown columns\n",
    "columns = ['Fuel_Price', 'CPI', 'MarkDown1', 'MarkDown2', 'MarkDown3', 'MarkDown4', 'MarkDown5']\n",
    "print(\"25th, 50th, and 75th Percentiles:\\n\")\n",
    "for col in columns:\n",
    "    q25 = features[col].quantile(0.25)\n",
    "    q50 = features[col].quantile(0.50)  # or use .median()\n",
    "    q75 = features[col].quantile(0.75)\n",
    "print(f\"{col}:\\n  25th Percentile = {q25:.2f}\\n  50th Percentile = {q50:.2f}\\n  75th Percentile = {q75:.2f}\\n\")\n"
   ]
  },
  {
   "cell_type": "code",
   "execution_count": 13,
   "id": "c30ee772",
   "metadata": {},
   "outputs": [
    {
     "name": "stdout",
     "output_type": "stream",
     "text": [
      "Interquartile Range (IQR):\n",
      "\n",
      "Fuel_Price: IQR = 0.70\n",
      "CPI: IQR = 81.57\n",
      "MarkDown1: IQR = 7345.78\n",
      "MarkDown2: IQR = 2084.47\n",
      "MarkDown3: IQR = 156.55\n",
      "MarkDown4: IQR = 3005.32\n",
      "MarkDown5: IQR = 3391.73\n"
     ]
    }
   ],
   "source": [
    "# •\tTask 3.2: Compute the Interquartile Range (IQR) for the above.\n",
    "columns = ['Fuel_Price', 'CPI', 'MarkDown1', 'MarkDown2', 'MarkDown3', 'MarkDown4', 'MarkDown5']\n",
    "print(\"Interquartile Range (IQR):\\n\")\n",
    "for col in columns:\n",
    "    q1 = features[col].quantile(0.25)\n",
    "    q3 = features[col].quantile(0.75)\n",
    "    iqr = q3 - q1\n",
    "    print(f\"{col}: IQR = {iqr:.2f}\")\n"
   ]
  },
  {
   "cell_type": "code",
   "execution_count": 14,
   "id": "05e2d446",
   "metadata": {},
   "outputs": [
    {
     "name": "stdout",
     "output_type": "stream",
     "text": [
      "   Fuel_Price  Fuel_Price_z  Temperature  Temperature_z\n",
      "0       2.572     -1.933506        42.31      -0.912605\n",
      "1       2.548     -1.989147        38.51      -1.116047\n",
      "2       2.514     -2.067972        39.93      -1.040024\n",
      "3       2.561     -1.959008        46.63      -0.681325\n",
      "4       2.625     -1.810632        46.50      -0.688285\n"
     ]
    }
   ],
   "source": [
    "# •\tTask 4.1: Compute the z-score for Fuel_Price and Temperature columns.\n",
    "features['Fuel_Price_z'] = (features['Fuel_Price'] - features['Fuel_Price'].mean()) / features['Fuel_Price'].std()\n",
    "features['Temperature_z'] = (features['Temperature'] - features['Temperature'].mean()) / features['Temperature'].std()\n",
    "\n",
    "print(features[['Fuel_Price', 'Fuel_Price_z', 'Temperature', 'Temperature_z']].head())\n"
   ]
  },
  {
   "cell_type": "code",
   "execution_count": 15,
   "id": "6c22b4ca",
   "metadata": {},
   "outputs": [
    {
     "name": "stdout",
     "output_type": "stream",
     "text": [
      "Fuel_Price Outliers: 0\n",
      "Temperature Outliers: 7\n"
     ]
    }
   ],
   "source": [
    "# •\tTask 4.2: Identify and count outliers using z-score > 3 or < -3.\n",
    "features['Fuel_Price_z'] = (features['Fuel_Price'] - features['Fuel_Price'].mean()) / features['Fuel_Price'].std()\n",
    "features['Temperature_z'] = (features['Temperature'] - features['Temperature'].mean()) / features['Temperature'].std()\n",
    "\n",
    "fuel_outliers = features[(features['Fuel_Price_z'] > 3) | (features['Fuel_Price_z'] < -3)]\n",
    "temp_outliers = features[(features['Temperature_z'] > 3) | (features['Temperature_z'] < -3)]\n",
    "\n",
    "print(f\"Fuel_Price Outliers: {fuel_outliers.shape[0]}\")\n",
    "print(f\"Temperature Outliers: {temp_outliers.shape[0]}\")\n"
   ]
  },
  {
   "cell_type": "code",
   "execution_count": 16,
   "id": "84d3d6e5",
   "metadata": {},
   "outputs": [
    {
     "name": "stdout",
     "output_type": "stream",
     "text": [
      "Coefficient of Variation (CV %):\n",
      "\n",
      "Temperature: CV = 31.47%\n",
      "Fuel_Price: CV = 12.66%\n",
      "CPI: CV = 23.04%\n",
      "Unemployment: CV = 23.98%\n"
     ]
    }
   ],
   "source": [
    "# •\tTask 5.1: Calculate CV for Temperature, Fuel_Price, CPI, Unemployment:\n",
    "# CV= (Standard Deviation/Mean)*100% \n",
    "columns = ['Temperature', 'Fuel_Price', 'CPI', 'Unemployment']\n",
    "\n",
    "print(\"Coefficient of Variation (CV %):\\n\")\n",
    "for col in columns:\n",
    "    mean_val = features[col].mean()\n",
    "    std_dev = features[col].std()\n",
    "    cv = (std_dev / mean_val) * 100\n",
    "    print(f\"{col}: CV = {cv:.2f}%\")\n"
   ]
  },
  {
   "cell_type": "code",
   "execution_count": 17,
   "id": "dcd252d6",
   "metadata": {},
   "outputs": [
    {
     "name": "stdout",
     "output_type": "stream",
     "text": [
      "Skewness of Numerical Columns:\n",
      "\n",
      "Store: Skewness = 0.00\n",
      "Temperature: Skewness = -0.28\n",
      "Fuel_Price: Skewness = -0.31\n",
      "MarkDown1: Skewness = 4.02\n",
      "MarkDown2: Skewness = 4.96\n",
      "MarkDown3: Skewness = 8.13\n",
      "MarkDown4: Skewness = 4.86\n",
      "MarkDown5: Skewness = 50.28\n",
      "CPI: Skewness = 0.07\n",
      "Unemployment: Skewness = 1.07\n",
      "Fuel_Price_z: Skewness = -0.31\n",
      "Temperature_z: Skewness = -0.28\n"
     ]
    }
   ],
   "source": [
    "# •\tTask 6.1: Calculate skewness for numerical columns\n",
    "numerical_cols = features.select_dtypes(include=[np.number]).columns\n",
    "\n",
    "print(\"Skewness of Numerical Columns:\\n\")\n",
    "for col in numerical_cols:\n",
    "    skew = features[col].skew()\n",
    "    print(f\"{col}: Skewness = {skew:.2f}\")\n"
   ]
  },
  {
   "cell_type": "code",
   "execution_count": 18,
   "id": "e8e6db18",
   "metadata": {},
   "outputs": [
    {
     "name": "stdout",
     "output_type": "stream",
     "text": [
      "Kurtosis of Numerical Columns:\n",
      "\n",
      "Store: Kurtosis = -1.20\n",
      "Temperature: Kurtosis = -0.61\n",
      "Fuel_Price: Kurtosis = -0.95\n",
      "MarkDown1: Kurtosis = 23.69\n",
      "MarkDown2: Kurtosis = 32.34\n",
      "MarkDown3: Kurtosis = 72.07\n",
      "MarkDown4: Kurtosis = 29.00\n",
      "MarkDown5: Kurtosis = 2923.06\n",
      "CPI: Kurtosis = -1.83\n",
      "Unemployment: Kurtosis = 2.50\n",
      "Fuel_Price_z: Kurtosis = -0.95\n",
      "Temperature_z: Kurtosis = -0.61\n"
     ]
    }
   ],
   "source": [
    "# •\tTask 6.2: Calculate kurtosis to understand tail distribution.\n",
    "numerical_cols = features.select_dtypes(include=[np.number]).columns\n",
    "\n",
    "print(\"Kurtosis of Numerical Columns:\\n\")\n",
    "for col in numerical_cols:\n",
    "    kurt = features[col].kurtosis()\n",
    "    print(f\"{col}: Kurtosis = {kurt:.2f}\")\n"
   ]
  },
  {
   "cell_type": "code",
   "execution_count": 19,
   "id": "7dd7bfda",
   "metadata": {},
   "outputs": [
    {
     "name": "stdout",
     "output_type": "stream",
     "text": [
      "           MarkDown1_mean  MarkDown1_std  MarkDown2_mean  MarkDown2_std  \\\n",
      "IsHoliday                                                                 \n",
      "False         6621.591146    7689.282701     2549.117008    5969.333786   \n",
      "True         11896.328535   19418.858887    11684.731423   20429.057957   \n",
      "\n",
      "           MarkDown3_mean  MarkDown3_std  MarkDown4_mean  MarkDown4_std  \\\n",
      "IsHoliday                                                                 \n",
      "False          252.276325    1144.329016     3019.268943    5897.762771   \n",
      "True         18472.234816   34945.532922     6357.234754   12788.867339   \n",
      "\n",
      "           MarkDown5_mean  MarkDown5_std  Fuel_Price_mean  Temperature_mean  \n",
      "IsHoliday                                                                    \n",
      "False         4225.809309   13602.784483         3.415351         60.194901  \n",
      "True          3022.472190    2582.114545         3.284323         48.453060  \n"
     ]
    }
   ],
   "source": [
    "# •\tTask 7.1: Group by IsHoliday and calculate:\n",
    "# o\tMean and std of all markdown columns.\n",
    "# o\tMean Fuel_Price and Temperature\n",
    "markdown_cols = ['MarkDown1', 'MarkDown2', 'MarkDown3', 'MarkDown4', 'MarkDown5']\n",
    "\n",
    "grouped = features.groupby('IsHoliday').agg(\n",
    "    {**{col: ['mean', 'std'] for col in markdown_cols},\n",
    "     'Fuel_Price': 'mean',\n",
    "     'Temperature': 'mean'}\n",
    ")\n",
    "\n",
    "grouped.columns = ['_'.join(col).strip() for col in grouped.columns.values]\n",
    "print(grouped)\n",
    "\n"
   ]
  },
  {
   "cell_type": "code",
   "execution_count": 20,
   "id": "9a3d9032",
   "metadata": {},
   "outputs": [
    {
     "name": "stdout",
     "output_type": "stream",
     "text": [
      "              CPI  Fuel_Price  Unemployment\n",
      "Store                                      \n",
      "1      217.271679    3.259242      7.440994\n",
      "2      216.918640    3.259242      7.403959\n",
      "3      220.690122    3.259242      7.006006\n",
      "4      129.197091    3.254885      5.647450\n",
      "5      217.844357    3.259242      6.163166\n"
     ]
    }
   ],
   "source": [
    "# •\tTask 7.2: Group by Store and calculate average CPI, Fuel_Price, and Unemployment.\n",
    "store_group = features.groupby('Store')[['CPI', 'Fuel_Price', 'Unemployment']].mean()\n",
    "print(store_group.head())  # Show first few rows for brevity\n"
   ]
  },
  {
   "cell_type": "code",
   "execution_count": 21,
   "id": "f14f5234",
   "metadata": {},
   "outputs": [
    {
     "name": "stdout",
     "output_type": "stream",
     "text": [
      "Missing Values Count:\n",
      "\n",
      "MarkDown1       4158\n",
      "MarkDown2       5269\n",
      "MarkDown3       4577\n",
      "MarkDown4       4726\n",
      "MarkDown5       4140\n",
      "CPI              585\n",
      "Unemployment     585\n",
      "dtype: int64\n"
     ]
    }
   ],
   "source": [
    "# •\tTask 8.1: Count missing values for MarkDown1–5, CPI, Unemployment.\n",
    "cols_to_check = ['MarkDown1', 'MarkDown2', 'MarkDown3', 'MarkDown4', 'MarkDown5', 'CPI', 'Unemployment']\n",
    "missing_counts = features[cols_to_check].isnull().sum()\n",
    "\n",
    "print(\"Missing Values Count:\\n\")\n",
    "print(missing_counts)\n"
   ]
  },
  {
   "cell_type": "code",
   "execution_count": 22,
   "id": "232f2f29",
   "metadata": {},
   "outputs": [],
   "source": [
    "# •\tTask 9.2: Fill missing values using:\n",
    "# o\tMean\n",
    "# o\tMedian\n",
    "# o\tForward fill\n",
    "\n",
    "features['CPI'].fillna(features['CPI'].mean(), inplace=True)\n",
    "features['CPI'].fillna(method='ffill', inplace=True)\n"
   ]
  },
  {
   "cell_type": "code",
   "execution_count": null,
   "id": "bc3a6d17",
   "metadata": {},
   "outputs": [],
   "source": [
    "# •\tTask 9.2: Fill missing values using:\n",
    "# o\tMean\n",
    "# o\tMedian\n",
    "# o\tForward fill\n",
    "\n",
    "features['CPI'].fillna(features['CPI'].mean(), inplace=True)\n",
    "features['CPI'].fillna(method='ffill', inplace=True)\n"
   ]
  },
  {
   "cell_type": "code",
   "execution_count": 25,
   "id": "9d591789",
   "metadata": {},
   "outputs": [],
   "source": [
    "# •\tTask 9.2: Fill missing values using:\n",
    "# o\tMean\n",
    "# o\tMedian\n",
    "# o\tForward fill\n",
    "\n",
    "features['CPI'].fillna(features['CPI'].mean(), inplace=True)\n",
    "features['CPI'].fillna(method='ffill', inplace=True)\n"
   ]
  },
  {
   "cell_type": "code",
   "execution_count": 24,
   "id": "fa529174",
   "metadata": {},
   "outputs": [],
   "source": [
    "# •\tTask 9.2: Fill missing values using:\n",
    "# o\tMean\n",
    "# o\tMedian\n",
    "# o\tForward fill\n",
    "\n",
    "features['CPI'].fillna(features['CPI'].mean(), inplace=True)\n",
    "features['CPI'].fillna(method='ffill', inplace=True)\n"
   ]
  },
  {
   "cell_type": "code",
   "execution_count": 23,
   "id": "bc0be31e",
   "metadata": {},
   "outputs": [
    {
     "data": {
      "text/plain": [
       "<AxesSubplot:xlabel='IsHoliday', ylabel='Fuel_Price'>"
      ]
     },
     "execution_count": 23,
     "metadata": {},
     "output_type": "execute_result"
    },
    {
     "data": {
      "image/png": "[encoded data removed]",
      "text/plain": [
       "<Figure size 432x288 with 1 Axes>"
      ]
     },
     "metadata": {},
     "output_type": "display_data"
    }
   ],
   "source": [
    "# •\tTask 10.1: Plot box plots for each numerical column (to visualize spread and outliers).\n",
    "\n",
    "sns.boxplot(x='IsHoliday', y='Fuel_Price', data=features)\n",
    "\n"
   ]
  }
 ],
 "metadata": {
  "kernelspec": {
   "display_name": "base",
   "language": "python",
   "name": "python3"
  },
  "language_info": {
   "codemirror_mode": {
    "name": "ipython",
    "version": 3
   },
   "file_extension": ".py",
   "mimetype": "text/x-python",
   "name": "python",
   "nbconvert_exporter": "python",
   "pygments_lexer": "ipython3",
   "version": "3.8.5"
  }
 },
 "nbformat": 4,
 "nbformat_minor": 5
}
